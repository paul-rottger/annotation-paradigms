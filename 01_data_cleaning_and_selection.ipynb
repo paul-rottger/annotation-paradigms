{
 "cells": [
  {
   "cell_type": "markdown",
   "id": "45235456-0ae8-4e0e-8190-030c5407b9c9",
   "metadata": {},
   "source": [
    "# DATA CLEANING AND SELECTION"
   ]
  },
  {
   "cell_type": "markdown",
   "id": "da8e1a76-7987-4574-82fb-8d0ac9d615c0",
   "metadata": {},
   "source": [
    "### Initialise packages"
   ]
  },
  {
   "cell_type": "code",
   "execution_count": 1,
   "id": "226bff1b-7426-485e-80ea-8f20c4a9a06f",
   "metadata": {},
   "outputs": [],
   "source": [
    "import pandas as pd\n",
    "import re\n",
    "\n",
    "from html import unescape"
   ]
  },
  {
   "cell_type": "markdown",
   "id": "28bec635-e271-4ebb-9b82-e9b8624095a4",
   "metadata": {},
   "source": [
    "### Import data"
   ]
  },
  {
   "cell_type": "code",
   "execution_count": 2,
   "id": "bc65da57-1415-4a83-8e55-4dce43d81e60",
   "metadata": {},
   "outputs": [
    {
     "name": "stdout",
     "output_type": "stream",
     "text": [
      "initial number of cases 24783\n",
      "cases annotated by three annotators 22807\n"
     ]
    }
   ],
   "source": [
    "df = pd.read_csv('./0_data/raw/davidson2017.csv', index_col=0)\n",
    "\n",
    "# Select cases annotated by three annotators\n",
    "print('initial number of cases', df.shape[0])\n",
    "df = df[df['count']==3].copy()\n",
    "print('cases annotated by three annotators', df.shape[0])"
   ]
  },
  {
   "cell_type": "markdown",
   "id": "e9f05968-1b73-4802-b3de-913ce44a19f4",
   "metadata": {},
   "source": [
    "### Clean data"
   ]
  },
  {
   "cell_type": "code",
   "execution_count": 3,
   "id": "16e9faed-f133-46d8-96fc-ecf1edd01bad",
   "metadata": {},
   "outputs": [],
   "source": [
    "# drop unnecessary columns\n",
    "df.drop(columns=['count'], inplace=True, errors='ignore')\n",
    "\n",
    "# rename columns\n",
    "df.rename(columns={\"class\": \"label_multi\", \"tweet\": \"text\", 'hate_speech': 'n_hateful', 'offensive_language': 'n_offensive', 'neither': 'n_neither'},\n",
    "          inplace=True, errors='ignore')"
   ]
  },
  {
   "cell_type": "code",
   "execution_count": 4,
   "id": "97449cc7-1586-43fe-a288-f542196cf0da",
   "metadata": {},
   "outputs": [],
   "source": [
    "# write out label names\n",
    "id_to_name = {0: 'hateful', 1: 'offensive', 2: 'neither'}\n",
    "\n",
    "df['label_multi'] = df.label_multi.apply(lambda x: id_to_name[x])"
   ]
  },
  {
   "cell_type": "code",
   "execution_count": 5,
   "id": "228188e1-0c08-4a67-8eaa-423a75816c07",
   "metadata": {},
   "outputs": [],
   "source": [
    "# create binary label column\n",
    "df['label_binary'] = df.label_multi.apply(lambda x: 'non-hateful' if x!='hateful' else 'hateful')"
   ]
  },
  {
   "cell_type": "code",
   "execution_count": 6,
   "id": "be9a53f0-ba7f-45c9-9be1-babc33d637ef",
   "metadata": {},
   "outputs": [],
   "source": [
    "# create column indicating whether annotation was unanimous\n",
    "\n",
    "def check_unanimity(row):\n",
    "    if max(row.n_hateful, row.n_offensive, row.n_neither)==3:\n",
    "        return True\n",
    "    else:\n",
    "        return False\n",
    "\n",
    "df['unanimous']= df.apply(lambda row: check_unanimity(row), axis=1)"
   ]
  },
  {
   "cell_type": "code",
   "execution_count": 7,
   "id": "65d7ced1-a31e-4cbd-808e-b278c59d2414",
   "metadata": {},
   "outputs": [
    {
     "data": {
      "text/html": [
       "<div>\n",
       "<style scoped>\n",
       "    .dataframe tbody tr th:only-of-type {\n",
       "        vertical-align: middle;\n",
       "    }\n",
       "\n",
       "    .dataframe tbody tr th {\n",
       "        vertical-align: top;\n",
       "    }\n",
       "\n",
       "    .dataframe thead th {\n",
       "        text-align: right;\n",
       "    }\n",
       "</style>\n",
       "<table border=\"1\" class=\"dataframe\">\n",
       "  <thead>\n",
       "    <tr style=\"text-align: right;\">\n",
       "      <th></th>\n",
       "      <th>n_hateful</th>\n",
       "      <th>n_offensive</th>\n",
       "      <th>n_neither</th>\n",
       "      <th>label_multi</th>\n",
       "      <th>text</th>\n",
       "      <th>label_binary</th>\n",
       "      <th>unanimous</th>\n",
       "      <th>text_clean</th>\n",
       "    </tr>\n",
       "  </thead>\n",
       "  <tbody>\n",
       "    <tr>\n",
       "      <th>0</th>\n",
       "      <td>0</td>\n",
       "      <td>0</td>\n",
       "      <td>3</td>\n",
       "      <td>neither</td>\n",
       "      <td>!!! RT @mayasolovely: As a woman you shouldn't...</td>\n",
       "      <td>non-hateful</td>\n",
       "      <td>True</td>\n",
       "      <td>[USER]: As a woman you shouldn't complain abou...</td>\n",
       "    </tr>\n",
       "    <tr>\n",
       "      <th>1</th>\n",
       "      <td>0</td>\n",
       "      <td>3</td>\n",
       "      <td>0</td>\n",
       "      <td>offensive</td>\n",
       "      <td>!!!!! RT @mleew17: boy dats cold...tyga dwn ba...</td>\n",
       "      <td>non-hateful</td>\n",
       "      <td>True</td>\n",
       "      <td>[USER]: boy dats cold...tyga dwn bad for cuffi...</td>\n",
       "    </tr>\n",
       "    <tr>\n",
       "      <th>2</th>\n",
       "      <td>0</td>\n",
       "      <td>3</td>\n",
       "      <td>0</td>\n",
       "      <td>offensive</td>\n",
       "      <td>!!!!!!! RT @UrKindOfBrand Dawg!!!! RT @80sbaby...</td>\n",
       "      <td>non-hateful</td>\n",
       "      <td>True</td>\n",
       "      <td>[USER] Dawg!!!!  [USER]: You ever fuck a bitch...</td>\n",
       "    </tr>\n",
       "    <tr>\n",
       "      <th>3</th>\n",
       "      <td>0</td>\n",
       "      <td>2</td>\n",
       "      <td>1</td>\n",
       "      <td>offensive</td>\n",
       "      <td>!!!!!!!!! RT @C_G_Anderson: @viva_based she lo...</td>\n",
       "      <td>non-hateful</td>\n",
       "      <td>False</td>\n",
       "      <td>[USER]: [USER] she look like a tranny</td>\n",
       "    </tr>\n",
       "    <tr>\n",
       "      <th>5</th>\n",
       "      <td>1</td>\n",
       "      <td>2</td>\n",
       "      <td>0</td>\n",
       "      <td>offensive</td>\n",
       "      <td>!!!!!!!!!!!!!!!!!!\"@T_Madison_x: The shit just...</td>\n",
       "      <td>non-hateful</td>\n",
       "      <td>False</td>\n",
       "      <td>\"[USER]: The shit just blows me..claim you so ...</td>\n",
       "    </tr>\n",
       "    <tr>\n",
       "      <th>...</th>\n",
       "      <td>...</td>\n",
       "      <td>...</td>\n",
       "      <td>...</td>\n",
       "      <td>...</td>\n",
       "      <td>...</td>\n",
       "      <td>...</td>\n",
       "      <td>...</td>\n",
       "      <td>...</td>\n",
       "    </tr>\n",
       "    <tr>\n",
       "      <th>25290</th>\n",
       "      <td>2</td>\n",
       "      <td>1</td>\n",
       "      <td>0</td>\n",
       "      <td>hateful</td>\n",
       "      <td>you're such a retard i hope you get type 2 dia...</td>\n",
       "      <td>hateful</td>\n",
       "      <td>False</td>\n",
       "      <td>you're such a retard i hope you get type 2 dia...</td>\n",
       "    </tr>\n",
       "    <tr>\n",
       "      <th>25291</th>\n",
       "      <td>0</td>\n",
       "      <td>2</td>\n",
       "      <td>1</td>\n",
       "      <td>offensive</td>\n",
       "      <td>you's a muthaf***in lie &amp;#8220;@LifeAsKing: @2...</td>\n",
       "      <td>non-hateful</td>\n",
       "      <td>False</td>\n",
       "      <td>you's a muthaf***in lie “[USER]: [USER] [USER]...</td>\n",
       "    </tr>\n",
       "    <tr>\n",
       "      <th>25292</th>\n",
       "      <td>0</td>\n",
       "      <td>1</td>\n",
       "      <td>2</td>\n",
       "      <td>neither</td>\n",
       "      <td>you've gone and broke the wrong heart baby, an...</td>\n",
       "      <td>non-hateful</td>\n",
       "      <td>False</td>\n",
       "      <td>you've gone and broke the wrong heart baby, an...</td>\n",
       "    </tr>\n",
       "    <tr>\n",
       "      <th>25294</th>\n",
       "      <td>0</td>\n",
       "      <td>3</td>\n",
       "      <td>0</td>\n",
       "      <td>offensive</td>\n",
       "      <td>young buck wanna eat!!.. dat nigguh like I ain...</td>\n",
       "      <td>non-hateful</td>\n",
       "      <td>True</td>\n",
       "      <td>young buck wanna eat!!.. dat nigguh like I ain...</td>\n",
       "    </tr>\n",
       "    <tr>\n",
       "      <th>25296</th>\n",
       "      <td>0</td>\n",
       "      <td>0</td>\n",
       "      <td>3</td>\n",
       "      <td>neither</td>\n",
       "      <td>~~Ruffled | Ntac Eileen Dahlia - Beautiful col...</td>\n",
       "      <td>non-hateful</td>\n",
       "      <td>True</td>\n",
       "      <td>~~Ruffled | Ntac Eileen Dahlia - Beautiful col...</td>\n",
       "    </tr>\n",
       "  </tbody>\n",
       "</table>\n",
       "<p>22807 rows × 8 columns</p>\n",
       "</div>"
      ],
      "text/plain": [
       "       n_hateful  n_offensive  n_neither label_multi  \\\n",
       "0              0            0          3     neither   \n",
       "1              0            3          0   offensive   \n",
       "2              0            3          0   offensive   \n",
       "3              0            2          1   offensive   \n",
       "5              1            2          0   offensive   \n",
       "...          ...          ...        ...         ...   \n",
       "25290          2            1          0     hateful   \n",
       "25291          0            2          1   offensive   \n",
       "25292          0            1          2     neither   \n",
       "25294          0            3          0   offensive   \n",
       "25296          0            0          3     neither   \n",
       "\n",
       "                                                    text label_binary  \\\n",
       "0      !!! RT @mayasolovely: As a woman you shouldn't...  non-hateful   \n",
       "1      !!!!! RT @mleew17: boy dats cold...tyga dwn ba...  non-hateful   \n",
       "2      !!!!!!! RT @UrKindOfBrand Dawg!!!! RT @80sbaby...  non-hateful   \n",
       "3      !!!!!!!!! RT @C_G_Anderson: @viva_based she lo...  non-hateful   \n",
       "5      !!!!!!!!!!!!!!!!!!\"@T_Madison_x: The shit just...  non-hateful   \n",
       "...                                                  ...          ...   \n",
       "25290  you're such a retard i hope you get type 2 dia...      hateful   \n",
       "25291  you's a muthaf***in lie &#8220;@LifeAsKing: @2...  non-hateful   \n",
       "25292  you've gone and broke the wrong heart baby, an...  non-hateful   \n",
       "25294  young buck wanna eat!!.. dat nigguh like I ain...  non-hateful   \n",
       "25296  ~~Ruffled | Ntac Eileen Dahlia - Beautiful col...  non-hateful   \n",
       "\n",
       "       unanimous                                         text_clean  \n",
       "0           True  [USER]: As a woman you shouldn't complain abou...  \n",
       "1           True  [USER]: boy dats cold...tyga dwn bad for cuffi...  \n",
       "2           True  [USER] Dawg!!!!  [USER]: You ever fuck a bitch...  \n",
       "3          False              [USER]: [USER] she look like a tranny  \n",
       "5          False  \"[USER]: The shit just blows me..claim you so ...  \n",
       "...          ...                                                ...  \n",
       "25290      False  you're such a retard i hope you get type 2 dia...  \n",
       "25291      False  you's a muthaf***in lie “[USER]: [USER] [USER]...  \n",
       "25292      False  you've gone and broke the wrong heart baby, an...  \n",
       "25294       True  young buck wanna eat!!.. dat nigguh like I ain...  \n",
       "25296       True  ~~Ruffled | Ntac Eileen Dahlia - Beautiful col...  \n",
       "\n",
       "[22807 rows x 8 columns]"
      ]
     },
     "execution_count": 7,
     "metadata": {},
     "output_type": "execute_result"
    }
   ],
   "source": [
    "def clean_text(text):\n",
    "    \n",
    "    # convert HTML codes\n",
    "    text = unescape(text)\n",
    "            \n",
    "    # replace mentions and URLs with special token\n",
    "    text = re.sub(r\"@[A-Za-z0-9_-]+\",'[USER]',text)\n",
    "    text = re.sub(r\"http\\S+\",'[URL]',text)\n",
    "\n",
    "    # remove punctuation and RT's at beginning of string (quirk in Davidson data)\n",
    "    text = text.lstrip('!')\n",
    "    text = text.replace('RT', '')\n",
    "    \n",
    "    # remove newline and tab characters\n",
    "    text = text.replace('\\n',' ')\n",
    "    text = text.replace('\\t',' ')\n",
    "    \n",
    "    # strip whitespace\n",
    "    text = text.strip()\n",
    "\n",
    "    return text\n",
    "    \n",
    "df['text_clean'] = df.text.apply(lambda x: clean_text(x))\n",
    "df"
   ]
  },
  {
   "cell_type": "markdown",
   "id": "8f12b27e-ef6a-4dae-970a-5eeb8bbb42ab",
   "metadata": {},
   "source": [
    "### Export clean data to csv"
   ]
  },
  {
   "cell_type": "code",
   "execution_count": 8,
   "id": "99465e40-a99b-44f6-a69c-67bf0628b9e2",
   "metadata": {},
   "outputs": [],
   "source": [
    "# create copy of df with relevant columns in more readable order\n",
    "export_df = df[['text_clean', 'label_binary', 'label_multi', 'unanimous', 'n_hateful', 'n_offensive', 'n_neither']].copy()"
   ]
  },
  {
   "cell_type": "code",
   "execution_count": 9,
   "id": "c1bcab0c-f0e1-44d8-a425-117218dca018",
   "metadata": {},
   "outputs": [],
   "source": [
    "# write to csv\n",
    "export_df.to_csv('./0_data/clean/davidson2017_clean.csv', index=False)"
   ]
  },
  {
   "cell_type": "code",
   "execution_count": null,
   "id": "d00438db-6bf3-4f8a-8408-33102d285f3e",
   "metadata": {},
   "outputs": [],
   "source": []
  }
 ],
 "metadata": {
  "kernelspec": {
   "display_name": "Python 3 (ipykernel)",
   "language": "python",
   "name": "python3"
  },
  "language_info": {
   "codemirror_mode": {
    "name": "ipython",
    "version": 3
   },
   "file_extension": ".py",
   "mimetype": "text/x-python",
   "name": "python",
   "nbconvert_exporter": "python",
   "pygments_lexer": "ipython3",
   "version": "3.9.7"
  }
 },
 "nbformat": 4,
 "nbformat_minor": 5
}
